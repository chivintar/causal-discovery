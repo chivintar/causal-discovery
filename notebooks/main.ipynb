{
 "cells": [
  {
   "cell_type": "code",
   "execution_count": 1,
   "id": "e391cd6b-50d9-4a1c-94e0-6b4bd6f49812",
   "metadata": {},
   "outputs": [],
   "source": [
    "import numpy as np\n",
    "import pandas as pd\n",
    "from matplotlib import pyplot as plt\n",
    "from scipy.stats import norm\n",
    "import time\n",
    "\n",
    "%matplotlib inline\n",
    "\n",
    "# #!pip install ipympl\n",
    "# %matplotlib widget\n",
    "import sys\n",
    "import os\n",
    "sys.path.append(os.path.abspath(\"../external\"))\n",
    "sys.path.append(os.path.abspath(\"../external/causal_comp\"))\n",
    "sys.path.append(os.path.abspath(\"../external/tigramite\"))\n",
    "\n",
    "seed = 42\n",
    "np.random.seed(seed)"
   ]
  },
  {
   "cell_type": "markdown",
   "id": "aabbaed5-3e0e-488a-a106-216b86446ca2",
   "metadata": {},
   "source": [
    "# 2D model"
   ]
  },
  {
   "cell_type": "markdown",
   "id": "3cc60eab-be13-424a-ade3-e769f8c759ad",
   "metadata": {},
   "source": [
    "## LKIFR"
   ]
  },
  {
   "cell_type": "code",
   "execution_count": 2,
   "id": "197e5a44-53ea-47dc-9588-405dd1a91aa3",
   "metadata": {},
   "outputs": [],
   "source": [
    "from causal_comp.function_liang_nvar import compute_sig\n",
    "from causal_comp.function_liang_nvar import compute_liang_nvar"
   ]
  },
  {
   "cell_type": "code",
   "execution_count": 3,
   "id": "207076b7-f145-4091-8d68-dbfb4202bdc9",
   "metadata": {},
   "outputs": [],
   "source": [
    "# Time series\n",
    "load_series = True # True: load time series; False: compute and save time series\n",
    "# save_var = True # True: save Liang index and correlation coefficient (for plotting afterwards); False: don't save variables\n",
    "\n",
    "filename = '../data/2D_series.npy'\n",
    "var_filename = '../results/npy/2D_liang.npy'\n",
    "if load_series == True: # load time series\n",
    "    t, X1, X2 = np.load(filename, allow_pickle=True)\n",
    "    T, tau, R, error_T, error_tau, error_R, sig_T, sig_tau, sig_R = np.load(var_filename, allow_pickle=True)"
   ]
  },
  {
   "cell_type": "code",
   "execution_count": 4,
   "id": "8d23cdc5-bac7-457c-8479-56e81e384aae",
   "metadata": {},
   "outputs": [],
   "source": [
    "# Time Parameters and Simulation Settings\n",
    "dt = 0.001\n",
    "tmax = 1000 # takes around 9 mins\n",
    "nt = int(tmax / dt)\n",
    "t = np.linspace(0, tmax, nt)\n",
    "start_computation = int(10 / dt)  # discard transients\n",
    "n_iter = 200 # bootstrap samples for Liang\n",
    "nvar = 2"
   ]
  },
  {
   "cell_type": "code",
   "execution_count": 5,
   "id": "7d2c438f-5cc1-4b01-8985-f83b2fbc5661",
   "metadata": {},
   "outputs": [],
   "source": [
    "if load_series==False:\n",
    "    # Simulate 2D Time Series\n",
    "    a11, a12 = -1, 0.5\n",
    "    a21, a22 = 0, -1\n",
    "    sigma1, sigma2 = 0.1, 0.1\n",
    "    dW1 = np.sqrt(dt) * np.random.normal(0, 1, nt)\n",
    "    dW2 = np.sqrt(dt) * np.random.normal(0, 1, nt)\n",
    "    X1, X2 = np.zeros(nt), np.zeros(nt)\n",
    "    X1[0], X2[0] = 1.0, 2.0\n",
    "    \n",
    "    for i in range(nt - 1):\n",
    "        X1[i + 1] = X1[i] + (a11 * X1[i] + a12 * X2[i]) * dt + sigma1 * dW1[i]\n",
    "        X2[i + 1] = X2[i] + (a22 * X2[i] + a21 * X1[i]) * dt + sigma2 * dW2[i]\n",
    "    \n",
    "    # Apply Liang-Kleeman Info Flow on Post-Transient Segment\n",
    "    print(\"Computing the Information Flow Rate...\")\n",
    "    start_L2 = time.time()\n",
    "    xx = np.array([X1[start_computation:], X2[start_computation:]])\n",
    "    T, tau, R, error_T, error_tau, error_R = compute_liang_nvar(xx, dt, n_iter)\n",
    "    print(f\"LKIFR computation time: {time.time() - start_L2:.2f} seconds\")"
   ]
  },
  {
   "cell_type": "code",
   "execution_count": 6,
   "id": "f7fb98b0-a86e-4312-b16c-8c1f00cf7ce3",
   "metadata": {},
   "outputs": [
    {
     "name": "stdout",
     "output_type": "stream",
     "text": [
      "\n",
      "Liang-Kleeman Info Transfer (T):\n",
      "[[-0.97944602  0.00578939]\n",
      " [ 0.10135035 -1.0512221 ]]\n",
      "\n",
      "Normalized Info Transfer (% tau):\n",
      "[[-49.96531961   0.27532049]\n",
      " [  5.17027232 -49.9919793 ]]\n",
      "\n",
      "Pearson Correlation (R):\n",
      "[[1.         0.22942272]\n",
      " [0.22942272 1.        ]]\n",
      "\n",
      "Significance of T (1=significant):\n",
      "[[1. 0.]\n",
      " [1. 1.]]\n",
      "\n",
      "Significance of tau:\n",
      "[[1. 0.]\n",
      " [1. 1.]]\n",
      "\n",
      "Significance of R:\n",
      "[[1. 1.]\n",
      " [1. 1.]]\n"
     ]
    }
   ],
   "source": [
    "# # Significance Check\n",
    "# alpha_level = 0.05   # controling false positives\n",
    "# conf = norm.ppf(1 - alpha_level / 2)\n",
    "# sig_T = np.zeros((nvar, nvar))\n",
    "# sig_tau = np.zeros((nvar, nvar))\n",
    "# sig_R = np.zeros((nvar, nvar))\n",
    "\n",
    "# for j in range(nvar):\n",
    "#     for k in range(nvar):\n",
    "#         sig_T[j, k] = compute_sig(T[j, k], error_T[j, k], conf)\n",
    "#         sig_tau[j, k] = compute_sig(tau[j, k], error_tau[j, k], conf)\n",
    "#         sig_R[j, k] = compute_sig(R[j, k], error_R[j, k], conf)\n",
    "\n",
    "# Results\n",
    "print(\"\\nLiang-Kleeman Info Transfer (T):\")\n",
    "print(T)\n",
    "print(\"\\nNormalized Info Transfer (% tau):\")\n",
    "print(tau)\n",
    "print(\"\\nPearson Correlation (R):\")\n",
    "print(R)\n",
    "\n",
    "print(\"\\nSignificance of T (1=significant):\")\n",
    "print(sig_T)\n",
    "print(\"\\nSignificance of tau:\")\n",
    "print(sig_tau)\n",
    "print(\"\\nSignificance of R:\")\n",
    "print(sig_R)"
   ]
  },
  {
   "cell_type": "code",
   "execution_count": 7,
   "id": "a849f62b-70fa-418e-afa0-11fe9868301e",
   "metadata": {},
   "outputs": [],
   "source": [
    "if load_series==False:\n",
    "    # Save time series and results\n",
    "    np.save('../data/2D_series_new.npy', [t, X1, X2])\n",
    "    np.save('../results/npy/2D_liang_new.npy', [T, tau, R, error_T, error_tau, error_R, sig_T, sig_tau, sig_R])"
   ]
  },
  {
   "cell_type": "markdown",
   "id": "93bcf7bc-5716-48da-aeec-513694cd0142",
   "metadata": {},
   "source": [
    "## PCMCI"
   ]
  },
  {
   "cell_type": "code",
   "execution_count": 8,
   "id": "44bb8ad4-97c0-4355-9417-d31cf8ead461",
   "metadata": {},
   "outputs": [],
   "source": [
    "from tigramite.data_processing import DataFrame\n",
    "from tigramite.independence_tests.parcorr import ParCorr\n",
    "from tigramite.pcmci import PCMCI"
   ]
  },
  {
   "cell_type": "markdown",
   "id": "63dc898c-9302-407f-86b1-8e99aff9e149",
   "metadata": {},
   "source": [
    "Tigramite takes input data as 2D Numpy array of shape (T:num of timesteps, N:num of variables)\n",
    "Our simulated series X1, X2 are shaped (nt,) that is, each is a separate 1D timeseries. So, \n",
    "we will make the array (2, T) and then we\\ll transpose it to be ready for Tigramite's DataFrame class."
   ]
  },
  {
   "cell_type": "code",
   "execution_count": 10,
   "id": "df5119d8-4936-4f78-accd-249713cc7975",
   "metadata": {},
   "outputs": [
    {
     "name": "stdout",
     "output_type": "stream",
     "text": [
      "Note: Alpha level 0.05 means accepting a 5.0% chance of falsely detecting a link that is not true.\n",
      "\n",
      "## Significant links at alpha = 0.05:\n",
      "\n",
      "    Variable X1 has 1 link(s):\n",
      "        (X1 -1): pval = 0.00000 | val =  0.707\n",
      "\n",
      "    Variable X2 has 1 link(s):\n",
      "        (X2 -1): pval = 0.00000 | val =  0.706\n",
      "\n",
      "PCMCI Path Coefficients (val_matrix) at lag=1:\n",
      "  [[0.70656187 0.00194443]\n",
      " [0.00071363 0.7062371 ]]\n",
      "\n",
      "Inferred parents per variable (from graph):\n",
      "  X1(t) ← X1(t-1)\n",
      "  X2(t) ← X2(t-1)\n"
     ]
    }
   ],
   "source": [
    "data_raw = np.array([X1[start_computation:], X2[start_computation:]]).T  # shape: (T, 2)\n",
    "dataframe = DataFrame(data_raw, var_names=[\"X1\", \"X2\"])\n",
    "\n",
    "# Set up ParCorr test and PCMCI object\n",
    "parcorr = ParCorr(significance='analytic')\n",
    "pcmci = PCMCI(dataframe=dataframe, cond_ind_test=parcorr)\n",
    "alpha_level = 0.05\n",
    "tau_max = 3\n",
    "\n",
    "# Run PCMCI (includes graph output by thresholding p_matrix)\n",
    "results = pcmci.run_pcmci(tau_max=tau_max, pc_alpha=alpha_level)\n",
    "\n",
    "# FDR-corrected p-values\n",
    "q_matrix = pcmci.get_corrected_pvalues(p_matrix=results['p_matrix'], fdr_method='fdr_bh')\n",
    "\n",
    "# Retrieve inferred parents from graph\n",
    "parents_dict = pcmci.return_parents_dict(graph=results['graph'], val_matrix=results['val_matrix'])\n",
    "\n",
    "# # Show beta matrix at lag 1\n",
    "# print(\"\\nPCMCI Path Coefficients (val_matrix) at lag=1:\")\n",
    "# print(results['val_matrix'][:, :, 1])\n",
    "\n",
    "# print(\"\\nInferred parents per variable (from graph):\")\n",
    "# print(parents_dict)\n",
    "\n",
    "# print(\"\\nFDR-corrected for significant p-values in q-matrix:\")\n",
    "# print(significant)\n",
    "\n",
    "# Printing results ##########\n",
    "print(f'Note: Alpha level {alpha_level} means accepting a {alpha_level*100:.1f}% chance of falsely detecting a link that is not true.')\n",
    "pcmci.print_significant_links(p_matrix = q_matrix, val_matrix = results['val_matrix'], alpha_level = alpha_level)\n",
    "graph = pcmci.get_graph_from_pmatrix(p_matrix=q_matrix, alpha_level=alpha_level, tau_min=0, tau_max=tau_max, link_assumptions=None)\n",
    "results['graph'] = graph\n",
    "\n",
    "# Retrieving inferred parents from above (corrected) graph\n",
    "parents_dict = pcmci.return_parents_dict(graph=results['graph'], val_matrix=results['val_matrix'])\n",
    "\n",
    "# Show beta (path coefficients) matrix at lag 1\n",
    "print(\"\\nPCMCI Path Coefficients (val_matrix) at lag=1:\")\n",
    "print(' ', results['val_matrix'][:, :, 1])\n",
    "\n",
    "print(\"\\nInferred parents per variable (from graph):\")\n",
    "for var, parents in parents_dict.items():\n",
    "    varname = dataframe.var_names[var]\n",
    "    formatted = ', '.join(f\"{dataframe.var_names[pv]}(t{lag})\" for pv, lag in parents)\n",
    "    print(f\"  {varname}(t) ← {formatted}\")\n",
    "\n"
   ]
  },
  {
   "cell_type": "markdown",
   "id": "80448faf-d51e-4bda-8071-1f2d4a74e406",
   "metadata": {},
   "source": [
    "# 6D model"
   ]
  },
  {
   "cell_type": "markdown",
   "id": "dfcf9ac6-d361-4a7e-ae25-a184f16f267b",
   "metadata": {},
   "source": [
    "## LKIFR"
   ]
  },
  {
   "cell_type": "code",
   "execution_count": 11,
   "id": "839ddcea-9ad2-40b1-a5d5-8b38c58e846f",
   "metadata": {},
   "outputs": [],
   "source": [
    "from causal_comp.function_liang_nvar import compute_liang_nvar, compute_sig"
   ]
  },
  {
   "cell_type": "code",
   "execution_count": 12,
   "id": "ef801903-9160-49c9-af9a-8c88e0ac9a70",
   "metadata": {},
   "outputs": [],
   "source": [
    "# Options\n",
    "load_series = True # True: load already saved time series (x,y,z); False: compute and save time series\n",
    "save_var = False # True: save Liang index and correlation coefficient (for plotting afterwards); False: don't save variables\n",
    "\n",
    "filename = '../data/6D_series.npy'\n",
    "var_filename = '../results/npy/6D_liang.npy'\n",
    "if load_series == True: # load time series\n",
    "    t, X1, X2, X3, X4, X5, X6 = np.load(filename,allow_pickle=True)\n",
    "    T, tau, R, error_T, error_tau, error_R, sig_T, sig_tau, sig_R = np.load(var_filename, allow_pickle=True)    "
   ]
  },
  {
   "cell_type": "code",
   "execution_count": 13,
   "id": "968d0c96-2991-41b5-8588-fe9d895ef5d0",
   "metadata": {},
   "outputs": [],
   "source": [
    "nvar_6d = 6 # number of variables (Liang [2021]: nvar=6)\n",
    "n_iter = 400 # nuof bootstrap realizations (for computing the error in Liang index)\n",
    "b_factor = 1 # amplitude of stochastic perturbation\n",
    "conf = 1.96 # 1.96 if 95% confidence interval; 2.58 if 99% confidence interval; 1.65 if 90% confidence interval\n",
    "\n",
    "# Time parameters\n",
    "dt = 1 # time step\n",
    "tmax = 1.e6 # total duration in unit times\n",
    "nt = int(tmax / dt) # number of time steps (Liang [2021]: nt=10000)\n",
    "t = np.linspace(0,tmax,nt) # time vector (varying between 0 and tmax with nt time steps)\n",
    "start_computation = int(10000 / dt) # exclude the first transient times for computing correlation coefficient and rate of information transfer"
   ]
  },
  {
   "cell_type": "code",
   "execution_count": 14,
   "id": "53a8c498-0327-413e-8ab5-cc58e6c23531",
   "metadata": {},
   "outputs": [
    {
     "name": "stdout",
     "output_type": "stream",
     "text": [
      "Significance testing on ../results/npy/6D_liang.npy...\n"
     ]
    }
   ],
   "source": [
    "if load_series==False:\n",
    "    # Simulate 6D Time Series\n",
    "    alpha = np.array([0.1,0.7,0.5,0.2,0.8,0.3])\n",
    "    A = np.array([(0, 0, -0.6, 0, 0, 0),\n",
    "    \t\t\t  (-0.5, 0, 0, 0, 0, 0.8),\n",
    "    \t\t\t  (0, 0.7, 0, 0, 0, 0),\n",
    "    \t\t\t  (0, 0, 0, 0.7, 0.4, 0),\n",
    "    \t\t\t  (0, 0, 0, 0.2, 0, 0.7),\n",
    "    \t\t\t  (0, 0, 0, 0, 0, -0.5)])\n",
    "    B = np.ones(nvar) * b_factor\n",
    "\n",
    "    # Random errors\n",
    "    mean_e = 0\n",
    "    std_e = 1\n",
    "    e = np.zeros((nvar,nt))\n",
    "    for var in np.arange(nvar):\n",
    "        e[var,:] = np.random.normal(mean_e,std_e,nt)\n",
    "    \n",
    "    # Initialization of variables\n",
    "    X = np.zeros((nvar,nt))\n",
    "    T = np.zeros((nvar,nvar))\n",
    "    tau = np.zeros((nvar,nvar))\n",
    "    R = np.zeros((nvar,nvar))\n",
    "    error_T = np.zeros((nvar,nvar))\n",
    "    error_tau = np.zeros((nvar,nvar))\n",
    "    error_R = np.zeros((nvar,nvar))\n",
    "\n",
    "    # VAR model\n",
    "    for i in np.arange(nt-1):\n",
    "        for var in np.arange(nvar):\n",
    "            X[var,i+1] = alpha[var] + np.sum(A[var,:] * X[:,i]) + B[var] * e[var,i+1]\n",
    "\n",
    "    # Apply Liang-Kleeman Info Flow on Post-Transient Segment\n",
    "    print(\"Computing the Information Flow Rate...\")\n",
    "    start_L6 = time.time()\n",
    "    xx = np.array((X[0,start_computation::],\n",
    "                   X[1,start_computation::],\n",
    "                   X[2,start_computation::],\n",
    "                   X[3,start_computation::],\n",
    "                   X[4,start_computation::],\n",
    "                   X[5,start_computation::]))\n",
    "    T, tau, R, error_T, error_tau, error_R = compute_liang_nvar(xx, dt, n_iter)\n",
    "    print(f\"LKIFR computation time for 6D system: {time.time() - start_L6:.2f} seconds\")\n",
    "else:\n",
    "    print(f'Significance testing on {var_filename}...')"
   ]
  },
  {
   "cell_type": "markdown",
   "id": "c23cbea8-30ff-4afd-8bdb-2b357c598652",
   "metadata": {},
   "source": [
    "Compute significance of rate of information transfer and correlation coefficient (by combining bootstrap samples)\n"
   ]
  },
  {
   "cell_type": "code",
   "execution_count": 15,
   "id": "a0444aea-1882-475b-81ff-cab721350faa",
   "metadata": {},
   "outputs": [
    {
     "name": "stdout",
     "output_type": "stream",
     "text": [
      "\n",
      "Liang-Kleeman Info Transfer (T) [6D]:\n",
      "[[-9.99813539e-01  1.22778826e-02  9.45702946e-06 -1.99191622e-07\n",
      "   1.47526177e-05  2.13753791e-05]\n",
      " [-1.21380506e-06 -1.00221419e+00 -9.15105787e-02 -1.20269742e-05\n",
      "   5.23070109e-04 -7.74923041e-05]\n",
      " [-3.88334326e-02 -6.16887429e-05 -9.99346085e-01 -3.59360638e-05\n",
      "   7.44331306e-05 -1.05505787e-04]\n",
      " [-9.43335953e-08  2.71796218e-05  3.12757633e-05 -2.99194938e-01\n",
      "   3.70673050e-02 -3.99155694e-05]\n",
      " [-4.70135792e-05  3.91032358e-04  2.54368927e-04  4.57433271e-02\n",
      "  -1.00229140e+00  1.67191010e-05]\n",
      " [-2.82393700e-05 -1.84482243e-01 -7.70080075e-05 -1.70598690e-05\n",
      "  -1.85379191e-01 -1.49975035e+00]]\n",
      "\n",
      "Normalized Info Transfer (% tau) [6D]:\n",
      "[[-7.55675946e+01  8.62996499e-01  7.11341667e-04 -3.84588206e-05\n",
      "   9.80053335e-04  1.13999479e-03]\n",
      " [-9.17414346e-05 -7.04443398e+01 -6.88327006e+00 -2.32210189e-03\n",
      "   3.47488572e-02 -4.13283072e-03]\n",
      " [-2.93509638e+00 -4.33602200e-03 -7.51691124e+01 -6.93833713e-03\n",
      "   4.94477926e-03 -5.62684981e-03]\n",
      " [-7.12989233e-06  1.91042049e-03  2.35250971e-03 -5.77669096e+01\n",
      "   2.46247389e+00 -2.12878289e-03]\n",
      " [-3.55336566e-03  2.74851590e-02  1.91331980e-02  8.83186949e+00\n",
      "  -6.65847275e+01  8.91665502e-04]\n",
      " [-2.13437925e-03 -1.29670184e+01 -5.79241132e-03 -3.29382548e-03\n",
      "  -1.23152039e+01 -7.99849015e+01]]\n",
      "\n",
      "Pearson Correlation (R) [6D]:\n",
      "[[ 1.00000000e+00 -2.77952436e-02  5.91482581e-02 -8.36284943e-04\n",
      "  -5.38980737e-02  3.72576276e-02]\n",
      " [-2.77952436e-02  1.00000000e+00 -1.26374160e-01 -3.71774386e-02\n",
      "   3.66632437e-01 -2.99982001e-01]\n",
      " [ 5.91482581e-02 -1.26374160e-01  1.00000000e+00  6.50224867e-02\n",
      "  -1.37390643e-01  1.09580583e-01]\n",
      " [-8.36284943e-04 -3.71774386e-02  6.50224867e-02  1.00000000e+00\n",
      "   1.45542249e-01  3.49171153e-02]\n",
      " [-5.38980737e-02  3.66632437e-01 -1.37390643e-01  1.45542249e-01\n",
      "   1.00000000e+00 -3.07058889e-01]\n",
      " [ 3.72576276e-02 -2.99982001e-01  1.09580583e-01  3.49171153e-02\n",
      "  -3.07058889e-01  1.00000000e+00]]\n",
      "\n",
      "Significance of T [6D]:\n",
      "[[1. 1. 0. 0. 0. 0.]\n",
      " [0. 1. 1. 0. 0. 0.]\n",
      " [1. 0. 1. 0. 0. 0.]\n",
      " [0. 0. 0. 1. 1. 0.]\n",
      " [0. 0. 1. 1. 1. 0.]\n",
      " [0. 1. 0. 0. 1. 1.]]\n",
      "\n",
      "Significance of tau [6D]:\n",
      "[[1. 1. 0. 0. 0. 0.]\n",
      " [0. 1. 1. 0. 0. 0.]\n",
      " [1. 0. 1. 0. 0. 0.]\n",
      " [0. 0. 0. 1. 1. 0.]\n",
      " [0. 0. 1. 1. 1. 0.]\n",
      " [0. 1. 0. 0. 1. 1.]]\n",
      "\n",
      "Significance of R [6D]:\n",
      "[[1. 1. 1. 0. 1. 1.]\n",
      " [1. 1. 1. 1. 1. 1.]\n",
      " [1. 1. 1. 1. 1. 1.]\n",
      " [0. 1. 1. 1. 1. 1.]\n",
      " [1. 1. 1. 1. 1. 1.]\n",
      " [1. 1. 1. 1. 1. 1.]]\n"
     ]
    }
   ],
   "source": [
    "# # Significance Check\n",
    "# conf = 1.96  # for 95% confidence\n",
    "# sig_T = np.zeros((nvar,nvar))\n",
    "# sig_tau = np.zeros((nvar,nvar))\n",
    "# sig_R = np.zeros((nvar,nvar))\n",
    "\n",
    "# for j in np.arange(nvar):\n",
    "#     for k in np.arange(nvar):\n",
    "#         sig_T[j,k] = compute_sig(T[j,k],error_T[j,k],conf)\n",
    "#         sig_tau[j,k] = compute_sig(tau[j,k],error_tau[j,k],conf)\n",
    "#         sig_R[j,k] = compute_sig(R[j,k],error_R[j,k],conf)\n",
    "\n",
    "# Results\n",
    "print(\"\\nLiang-Kleeman Info Transfer (T) [6D]:\")\n",
    "print(T)\n",
    "print(\"\\nNormalized Info Transfer (% tau) [6D]:\")\n",
    "print(tau)\n",
    "print(\"\\nPearson Correlation (R) [6D]:\")\n",
    "print(R)\n",
    "\n",
    "print(\"\\nSignificance of T [6D]:\")\n",
    "print(sig_T)\n",
    "print(\"\\nSignificance of tau [6D]:\")\n",
    "print(sig_tau)\n",
    "print(\"\\nSignificance of R [6D]:\")\n",
    "print(sig_R)\n"
   ]
  },
  {
   "cell_type": "code",
   "execution_count": 16,
   "id": "57e55e05-2e29-4f07-b70b-7e55171032ff",
   "metadata": {},
   "outputs": [],
   "source": [
    "if load_series==False:\n",
    "    # Save time series and results\n",
    "    np.save('../data/6D_series_new.npy',[t, X1, X2, X3, X4, X5, X6])\n",
    "    np.save('../results/npy/6D_liang_new.npy',[T,tau,R,error_T,error_tau,error_R,sig_T,sig_tau,sig_R])\n"
   ]
  },
  {
   "cell_type": "markdown",
   "id": "10e67514-d2cf-4483-b36c-c3a23f3b2407",
   "metadata": {},
   "source": [
    "## PCMCI"
   ]
  },
  {
   "cell_type": "code",
   "execution_count": 23,
   "id": "d72a23be-a00b-4501-af3a-c740ea4c86de",
   "metadata": {},
   "outputs": [
    {
     "name": "stdout",
     "output_type": "stream",
     "text": [
      "Note: Alpha level 0.05 means accepting a 5.0% chance of falsely detecting a link that is not true.\n",
      "\n",
      "## Significant links at alpha = 0.05:\n",
      "\n",
      "    Variable X1 has 1 link(s):\n",
      "        (X3 -1): pval = 0.00000 | val = -0.515\n",
      "\n",
      "    Variable X2 has 2 link(s):\n",
      "        (X6 -1): pval = 0.00000 | val =  0.624\n",
      "        (X1 -1): pval = 0.00000 | val = -0.446\n",
      "\n",
      "    Variable X3 has 1 link(s):\n",
      "        (X2 -1): pval = 0.00000 | val =  0.574\n",
      "\n",
      "    Variable X4 has 2 link(s):\n",
      "        (X4 -1): pval = 0.00000 | val =  0.573\n",
      "        (X5 -1): pval = 0.00000 | val =  0.370\n",
      "\n",
      "    Variable X5 has 2 link(s):\n",
      "        (X6 -1): pval = 0.00000 | val =  0.573\n",
      "        (X4 -1): pval = 0.00000 | val =  0.196\n",
      "\n",
      "    Variable X6 has 1 link(s):\n",
      "        (X6 -1): pval = 0.00000 | val = -0.447\n",
      "\n",
      "PCMCI Path Coefficients (val_matrix) at lag=1:\n",
      "  [[ 8.48694301e-04 -4.46229470e-01 -5.28553795e-04  1.97383506e-04\n",
      "   5.08949336e-05  1.13028479e-03]\n",
      " [ 4.09408318e-04 -2.51196331e-03  5.73575503e-01 -7.01450196e-04\n",
      "   2.25518029e-03  8.68378565e-04]\n",
      " [-5.14903758e-01  1.28989044e-03  1.14323375e-03  1.62044757e-04\n",
      "  -5.97562802e-04 -8.02438694e-04]\n",
      " [-2.01540845e-04 -1.77980277e-03  3.74574511e-04  5.73306573e-01\n",
      "   1.95878385e-01 -1.25243092e-03]\n",
      " [ 3.76603896e-04 -1.68638327e-04 -2.13641076e-03  3.70154779e-01\n",
      "  -1.85331070e-03 -2.58698351e-04]\n",
      " [-7.71762071e-04  6.23748251e-01 -8.99922038e-04  3.87017605e-05\n",
      "   5.72524338e-01 -4.46944637e-01]]\n",
      "\n",
      "Inferred parents per variable (from graph):\n",
      "  X1(t) ← X3(t-1)\n",
      "  X2(t) ← X6(t-1), X1(t-1)\n",
      "  X3(t) ← X2(t-1)\n",
      "  X4(t) ← X4(t-1), X5(t-1)\n",
      "  X5(t) ← X6(t-1), X4(t-1)\n",
      "  X6(t) ← X6(t-1)\n"
     ]
    }
   ],
   "source": [
    "data_6d_cut = np.array([X1[start_computation:], X2[start_computation:], X3[start_computation:], \n",
    "                        X4[start_computation:], X5[start_computation:], X6[start_computation:]]).T  # shape: (T, 6)\n",
    "\n",
    "dataframe_6d = DataFrame(data_6d_cut, var_names=[f\"X{i+1}\" for i in range(nvar_6d)])\n",
    "\n",
    "# Run PCMCI\n",
    "parcorr = ParCorr(significance='analytic')\n",
    "alpha_level = 0.05\n",
    "tau_max = 3\n",
    "pcmci_6d = PCMCI(dataframe=dataframe_6d, cond_ind_test=parcorr)\n",
    "results_6d = pcmci_6d.run_pcmci(tau_max=tau_max, pc_alpha=alpha_level)\n",
    "\n",
    "# FDR-corrected p-values\n",
    "q_matrix_6d = pcmci_6d.get_corrected_pvalues(p_matrix=results_6d['p_matrix'], fdr_method='fdr_bh')\n",
    "significant_6d = q_matrix_6d < alpha_level\n",
    "\n",
    "# Inferred parents\n",
    "parents_dict_6d = pcmci_6d.return_parents_dict(graph=results_6d['graph'], val_matrix=results_6d['val_matrix'])\n",
    "\n",
    "# Printing results_6d ##########\n",
    "print(f'Note: Alpha level {alpha_level} means accepting a {alpha_level*100:.1f}% chance of falsely detecting a link that is not true.')\n",
    "pcmci_6d.print_significant_links(p_matrix = q_matrix_6d, val_matrix = results_6d['val_matrix'], alpha_level = alpha_level)\n",
    "graph = pcmci_6d.get_graph_from_pmatrix(p_matrix=q_matrix_6d, alpha_level=alpha_level, tau_min=0, tau_max=tau_max, link_assumptions=None)\n",
    "results_6d['graph'] = graph\n",
    "\n",
    "# Retrieving inferred parents from above (corrected) graph\n",
    "parents_dict_6d = pcmci_6d.return_parents_dict(graph=results_6d['graph'], val_matrix=results_6d['val_matrix'])\n",
    "\n",
    "# Show beta (path coefficients) matrix at lag 1\n",
    "print(\"\\nPCMCI Path Coefficients (val_matrix) at lag=1:\")\n",
    "print(' ', results_6d['val_matrix'][:, :, 1])\n",
    "\n",
    "print(\"\\nInferred parents per variable (from graph):\")\n",
    "for var, parents in parents_dict_6d.items():\n",
    "    varname = dataframe_6d.var_names[var]\n",
    "    formatted = ', '.join(f\"{dataframe_6d.var_names[pv]}(t{lag})\" for pv, lag in parents)\n",
    "    print(f\"  {varname}(t) ← {formatted}\")"
   ]
  },
  {
   "cell_type": "markdown",
   "id": "2e93de0c-2d2d-45f4-b525-b23cd46bc44c",
   "metadata": {},
   "source": [
    "##### Draft Plotting "
   ]
  },
  {
   "cell_type": "code",
   "execution_count": 24,
   "id": "df555737-2049-4320-b871-63d21858f1be",
   "metadata": {},
   "outputs": [
    {
     "data": {
      "image/png": "[encoded data removed]",
      "text/plain": [
       "<Figure size 800x600 with 1 Axes>"
      ]
     },
     "metadata": {},
     "output_type": "display_data"
    }
   ],
   "source": [
    "import numpy as np\n",
    "import matplotlib.pyplot as plt\n",
    "import seaborn as sns\n",
    "import networkx as nx\n",
    "\n",
    "# Given: val_matrix and significant mask\n",
    "val_matrix = results_6d['val_matrix'][:, :, 1]  # Only lag=1\n",
    "sig_links = significant_6d[:, :, 1]\n",
    "var_names = [f\"X{i+1}\" for i in range(val_matrix.shape[0])]\n",
    "\n",
    "# 1. Heatmap of path coefficients\n",
    "plt.figure(figsize=(8, 6))\n",
    "sns.heatmap(val_matrix, xticklabels=var_names, yticklabels=var_names, annot=True, fmt=\".2f\", cmap=\"coolwarm\")\n",
    "plt.title(\"PCMCI Path Coefficients (lag=1)\")\n",
    "plt.xlabel(\"Cause\")\n",
    "plt.ylabel(\"Effect\")\n",
    "plt.tight_layout()\n",
    "plt.savefig(\"../results/plots/pcmci_6d_val_matrix_lag1.png\")\n",
    "plt.close()\n",
    "\n",
    "# 2. Binary heatmap of significant links\n",
    "plt.figure(figsize=(8, 6))\n",
    "sns.heatmap(sig_links, xticklabels=var_names, yticklabels=var_names, cmap=\"Blues\", cbar=False, annot=True)\n",
    "plt.title(\"Significant Links (q < 0.05, lag=1)\")\n",
    "plt.xlabel(\"Cause\")\n",
    "plt.ylabel(\"Effect\")\n",
    "plt.tight_layout()\n",
    "plt.savefig(\"../results/plots/pcmci_6d_significant_links_lag1.png\")\n",
    "plt.close()\n",
    "\n",
    "# 3. Network graph of significant causal links\n",
    "G = nx.DiGraph()\n",
    "G.add_nodes_from(var_names)\n",
    "\n",
    "for i in range(val_matrix.shape[0]):\n",
    "    for j in range(val_matrix.shape[1]):\n",
    "        if sig_links[i, j]:\n",
    "            G.add_edge(var_names[j], var_names[i], weight=val_matrix[i, j])  # edge: cause -> effect\n",
    "\n",
    "plt.figure(figsize=(8, 6))\n",
    "pos = nx.circular_layout(G)\n",
    "edges = G.edges(data=True)\n",
    "weights = [abs(d['weight']) for (_, _, d) in edges]\n",
    "\n",
    "nx.draw(G, pos, with_labels=True, node_size=1200, node_color=\"lightblue\", arrows=True, width=2)\n",
    "nx.draw_networkx_edges(G, pos, edgelist=edges, width=weights, edge_color=weights, edge_cmap=plt.cm.viridis)\n",
    "edge_labels = {(u, v): f\"{d['weight']:.2f}\" for u, v, d in edges}\n",
    "nx.draw_networkx_edge_labels(G, pos, edge_labels=edge_labels)\n",
    "\n",
    "plt.title(\"PCMCI Causal Graph (lag=1, q < 0.05)\")\n",
    "# plt.tight_layout()\n",
    "plt.savefig(\"../results/plots/pcmci_6d_network_graph_lag1.png\")\n",
    "# plt.close()\n"
   ]
  },
  {
   "cell_type": "code",
   "execution_count": 25,
   "id": "b15474e0-897b-4277-8de6-c4123dc8425f",
   "metadata": {},
   "outputs": [
    {
     "data": {
      "image/png": "[encoded data removed]",
      "text/plain": [
       "<Figure size 800x600 with 2 Axes>"
      ]
     },
     "metadata": {},
     "output_type": "display_data"
    },
    {
     "data": {
      "image/png": "[encoded data removed]",
      "text/plain": [
       "<Figure size 800x600 with 1 Axes>"
      ]
     },
     "metadata": {},
     "output_type": "display_data"
    },
    {
     "name": "stderr",
     "output_type": "stream",
     "text": [
      "C:\\Users\\camen\\AppData\\Local\\Temp\\ipykernel_24880\\709798589.py:54: UserWarning: This figure includes Axes that are not compatible with tight_layout, so results might be incorrect.\n",
      "  plt.tight_layout()\n"
     ]
    },
    {
     "data": {
      "image/png": "[encoded data removed]",
      "text/plain": [
       "<Figure size 800x600 with 1 Axes>"
      ]
     },
     "metadata": {},
     "output_type": "display_data"
    }
   ],
   "source": [
    "import matplotlib.pyplot as plt\n",
    "import seaborn as sns\n",
    "import networkx as nx\n",
    "import os\n",
    "\n",
    "# Create results folder if not exist\n",
    "os.makedirs(\"../results/plots\", exist_ok=True)\n",
    "\n",
    "# --- Variables ---\n",
    "val_matrix = results_6d['val_matrix'][:, :, 1]  # Only lag=1\n",
    "sig_links = significant_6d[:, :, 1]\n",
    "var_names = [f\"X{i+1}\" for i in range(val_matrix.shape[0])]\n",
    "\n",
    "# --- 1. Heatmap of path coefficients ---\n",
    "plt.figure(figsize=(8, 6))\n",
    "sns.heatmap(val_matrix, xticklabels=var_names, yticklabels=var_names, annot=True, fmt=\".2f\", cmap=\"coolwarm\")\n",
    "plt.title(\"PCMCI Path Coefficients (lag=1)\")\n",
    "plt.xlabel(\"Cause\")\n",
    "plt.ylabel(\"Effect\")\n",
    "plt.tight_layout()\n",
    "plt.savefig(\"../results/plots/pcmci_6d_val_matrix_lag1.png\")\n",
    "plt.show()\n",
    "\n",
    "# --- 2. Binary heatmap of significant links ---\n",
    "plt.figure(figsize=(8, 6))\n",
    "sns.heatmap(sig_links, xticklabels=var_names, yticklabels=var_names, cmap=\"Blues\", cbar=False, annot=True)\n",
    "plt.title(\"Significant Links (q < 0.05, lag=1)\")\n",
    "plt.xlabel(\"Cause\")\n",
    "plt.ylabel(\"Effect\")\n",
    "plt.tight_layout()\n",
    "plt.savefig(\"../results/plots/pcmci_6d_significant_links_lag1.png\")\n",
    "plt.show()\n",
    "\n",
    "# --- 3. Network graph of significant causal links ---\n",
    "G = nx.DiGraph()\n",
    "G.add_nodes_from(var_names)\n",
    "\n",
    "for i in range(val_matrix.shape[0]):\n",
    "    for j in range(val_matrix.shape[1]):\n",
    "        if sig_links[i, j]:\n",
    "            G.add_edge(var_names[j], var_names[i], weight=val_matrix[i, j])  # cause -> effect\n",
    "\n",
    "plt.figure(figsize=(8, 6))\n",
    "pos = nx.circular_layout(G)\n",
    "edges = G.edges(data=True)\n",
    "weights = [abs(d['weight']) for (_, _, d) in edges]\n",
    "\n",
    "nx.draw(G, pos, with_labels=True, node_size=1200, node_color=\"lightblue\", arrows=True, width=2)\n",
    "nx.draw_networkx_edges(G, pos, edgelist=edges, width=weights, edge_color=weights, edge_cmap=plt.cm.viridis)\n",
    "edge_labels = {(u, v): f\"{d['weight']:.2f}\" for u, v, d in edges}\n",
    "nx.draw_networkx_edge_labels(G, pos, edge_labels=edge_labels)\n",
    "\n",
    "plt.title(\"PCMCI Causal Graph (lag=1, q < 0.05)\")\n",
    "plt.tight_layout()\n",
    "plt.savefig(\"../results/plots/pcmci_6d_network_graph_lag1.png\")\n",
    "plt.show()\n"
   ]
  },
  {
   "cell_type": "markdown",
   "id": "8602c174-5e83-4355-ad0f-a135e22f6a37",
   "metadata": {},
   "source": [
    "# Real Data"
   ]
  },
  {
   "cell_type": "markdown",
   "id": "d45cdbc7-1b74-4b1e-a11c-1e52ff012b1f",
   "metadata": {},
   "source": [
    "## LKIFR"
   ]
  },
  {
   "cell_type": "code",
   "execution_count": 44,
   "id": "955f5d25-2717-451f-90e9-ec0d825d4ce3",
   "metadata": {},
   "outputs": [],
   "source": [
    "from causal_comp.function_liang_nvar import compute_sig\n",
    "from causal_comp.function_liang_nvar import compute_liang_nvar"
   ]
  },
  {
   "cell_type": "markdown",
   "id": "dbb13399-4473-4be9-bda2-373020e12464",
   "metadata": {},
   "source": [
    "### CO2 NOAA-deseasoned, Temp plain average"
   ]
  },
  {
   "cell_type": "markdown",
   "id": "ee5b4ec7-dba0-4c3e-8b75-a274f78c6c6d",
   "metadata": {},
   "source": [
    "The attempt below uses the deseasonalized CO2 data from Mauna Loa, preprocessed by NOAA. It's deseasoning process uses a digial filter and the seasonal component is estimated using a nontlinear iterative curve fitting method (Thoning et al. 1989). The temperature dataset uses monthly mean, firstly without de-seasonining."
   ]
  },
  {
   "cell_type": "code",
   "execution_count": 45,
   "id": "992e982c-625d-4704-98d5-a4824e66e786",
   "metadata": {},
   "outputs": [
    {
     "data": {
      "text/html": [
       "<div>\n",
       "<style scoped>\n",
       "    .dataframe tbody tr th:only-of-type {\n",
       "        vertical-align: middle;\n",
       "    }\n",
       "\n",
       "    .dataframe tbody tr th {\n",
       "        vertical-align: top;\n",
       "    }\n",
       "\n",
       "    .dataframe thead th {\n",
       "        text-align: right;\n",
       "    }\n",
       "</style>\n",
       "<table border=\"1\" class=\"dataframe\">\n",
       "  <thead>\n",
       "    <tr style=\"text-align: right;\">\n",
       "      <th></th>\n",
       "      <th>temperature</th>\n",
       "      <th>co2</th>\n",
       "    </tr>\n",
       "  </thead>\n",
       "  <tbody>\n",
       "    <tr>\n",
       "      <th>1958-03-01</th>\n",
       "      <td>5.110323</td>\n",
       "      <td>314.44</td>\n",
       "    </tr>\n",
       "    <tr>\n",
       "      <th>1958-04-01</th>\n",
       "      <td>8.125792</td>\n",
       "      <td>315.16</td>\n",
       "    </tr>\n",
       "    <tr>\n",
       "      <th>1958-05-01</th>\n",
       "      <td>11.181393</td>\n",
       "      <td>314.69</td>\n",
       "    </tr>\n",
       "    <tr>\n",
       "      <th>1958-06-01</th>\n",
       "      <td>12.985923</td>\n",
       "      <td>315.15</td>\n",
       "    </tr>\n",
       "    <tr>\n",
       "      <th>1958-07-01</th>\n",
       "      <td>14.422375</td>\n",
       "      <td>315.20</td>\n",
       "    </tr>\n",
       "    <tr>\n",
       "      <th>...</th>\n",
       "      <td>...</td>\n",
       "      <td>...</td>\n",
       "    </tr>\n",
       "    <tr>\n",
       "      <th>2025-01-01</th>\n",
       "      <td>4.449924</td>\n",
       "      <td>426.35</td>\n",
       "    </tr>\n",
       "    <tr>\n",
       "      <th>2025-02-01</th>\n",
       "      <td>4.444533</td>\n",
       "      <td>426.15</td>\n",
       "    </tr>\n",
       "    <tr>\n",
       "      <th>2025-03-01</th>\n",
       "      <td>6.837699</td>\n",
       "      <td>426.69</td>\n",
       "    </tr>\n",
       "    <tr>\n",
       "      <th>2025-04-01</th>\n",
       "      <td>9.779043</td>\n",
       "      <td>427.13</td>\n",
       "    </tr>\n",
       "    <tr>\n",
       "      <th>2025-05-01</th>\n",
       "      <td>12.274119</td>\n",
       "      <td>427.25</td>\n",
       "    </tr>\n",
       "  </tbody>\n",
       "</table>\n",
       "<p>807 rows × 2 columns</p>\n",
       "</div>"
      ],
      "text/plain": [
       "            temperature     co2\n",
       "1958-03-01     5.110323  314.44\n",
       "1958-04-01     8.125792  315.16\n",
       "1958-05-01    11.181393  314.69\n",
       "1958-06-01    12.985923  315.15\n",
       "1958-07-01    14.422375  315.20\n",
       "...                 ...     ...\n",
       "2025-01-01     4.449924  426.35\n",
       "2025-02-01     4.444533  426.15\n",
       "2025-03-01     6.837699  426.69\n",
       "2025-04-01     9.779043  427.13\n",
       "2025-05-01    12.274119  427.25\n",
       "\n",
       "[807 rows x 2 columns]"
      ]
     },
     "execution_count": 45,
     "metadata": {},
     "output_type": "execute_result"
    }
   ],
   "source": [
    "df = pd.read_pickle(\"../data/temp_co2_aligned.pkl\")\n",
    "df"
   ]
  },
  {
   "cell_type": "code",
   "execution_count": 53,
   "id": "cc9d296b-2ea3-4a59-b2b2-550816148d61",
   "metadata": {},
   "outputs": [
    {
     "name": "stdout",
     "output_type": "stream",
     "text": [
      "Computing LKIFR...\n",
      "Process took 0.24 sec\n",
      "\n",
      "Liang-Kleeman Info Transfer (T):\n",
      "[[-1.64638029e+00  2.08293056e-04]\n",
      " [ 1.98308327e-02  1.62946352e-02]]\n",
      "\n",
      "Normalized Info Transfer (% tau):\n",
      "[[-51.78627763   1.22161517]\n",
      " [  0.62377144  95.56618877]]\n",
      "\n",
      "Pearson Correlation (R):\n",
      "[[1.         0.10937683]\n",
      " [0.10937683 1.        ]]\n",
      "\n",
      "\n",
      "For alpha_level = 0.05:\n",
      "\n",
      "Significance of T (1=significant):\n",
      "[[1. 0.]\n",
      " [0. 1.]]\n",
      "\n",
      "Significance of tau:\n",
      "[[1. 0.]\n",
      " [0. 1.]]\n"
     ]
    }
   ],
   "source": [
    "temp = df.iloc[:,0].values\n",
    "co2 = df.iloc[:,1].values\n",
    "dt = 1/12\n",
    "n_iter=200\n",
    "xx = np.array([temp, co2])\n",
    "\n",
    "\n",
    "print(\"Computing LKIFR...\")\n",
    "start = time.time()\n",
    "T, tau, R, error_T, error_tau, error_R = compute_liang_nvar(xx, dt, n_iter)\n",
    "print(f\"Process took {time.time() - start:.2f} sec\")\n",
    "\n",
    "# Significance\n",
    "nvar = 2\n",
    "alpha_level = 0.05\n",
    "conf = norm.ppf(1 - alpha_level / 2)\n",
    "\n",
    "sig_T = np.zeros((nvar, nvar))\n",
    "sig_tau = np.zeros((nvar, nvar))\n",
    "sig_R = np.zeros((nvar, nvar))\n",
    "\n",
    "for j in range(nvar):\n",
    "    for k in range(nvar):\n",
    "        sig_T[j, k] = compute_sig(T[j, k], error_T[j, k], conf)\n",
    "        sig_tau[j, k] = compute_sig(tau[j, k], error_tau[j, k], conf)\n",
    "        sig_R[j, k] = compute_sig(R[j, k], error_R[j, k], conf)\n",
    "\n",
    "# Print results\n",
    "print(\"\\nLiang-Kleeman Info Transfer (T):\")\n",
    "print(T)\n",
    "print(\"\\nNormalized Info Transfer (% tau):\")\n",
    "print(tau)\n",
    "print(\"\\nPearson Correlation (R):\")\n",
    "print(R)\n",
    "print(f\"\\n\\nFor alpha_level = {alpha_level}:\")\n",
    "print(\"\\nSignificance of T (1=significant):\")\n",
    "print(sig_T)\n",
    "print(\"\\nSignificance of tau:\")\n",
    "print(sig_tau)"
   ]
  },
  {
   "cell_type": "markdown",
   "id": "0be3f5a9-f108-4a87-8e08-f951ea2dab2c",
   "metadata": {},
   "source": [
    "### CO2 and Temp equivalently deseasoned datasets:"
   ]
  },
  {
   "cell_type": "markdown",
   "id": "74063a80-3372-40b6-99c2-5023dfc2cd62",
   "metadata": {},
   "source": [
    "The process below uses the monthly average [CO2] data from Mauna Loa, and the global monthly mean temperature both preprocessed as follows: each month had its mean subtracted, then, annual differences were applied to obtain deseasoned datasets."
   ]
  },
  {
   "cell_type": "code",
   "execution_count": 55,
   "id": "1603ca20-0d53-4e79-a408-1f5ff54947e0",
   "metadata": {},
   "outputs": [],
   "source": [
    "df_desed = pd.read_pickle(\"../data/temp_co2_aligned_deeasoned.pkl\") # \"desed\" for deseasoned"
   ]
  },
  {
   "cell_type": "code",
   "execution_count": 56,
   "id": "f1dea21b-c271-439e-b653-b1058ab269ea",
   "metadata": {},
   "outputs": [
    {
     "name": "stdout",
     "output_type": "stream",
     "text": [
      "Computing LKIFR...\n",
      "Process took 0.62 sec\n",
      "\n",
      "Liang-Kleeman Info Transfer (T):\n",
      "[[-7.12974353  0.08602232]\n",
      " [ 0.13357561 -1.75415733]]\n",
      "\n",
      "Normalized Info Transfer (% tau):\n",
      "[[-58.54139274   2.52067915]\n",
      " [  1.09677191 -51.40140271]]\n",
      "\n",
      "Pearson Correlation (R):\n",
      "[[1.         0.15037915]\n",
      " [0.15037915 1.        ]]\n",
      "\n",
      "\n",
      "For alpha_level = 0.034:\n",
      "\n",
      "Significance of T (1=significant):\n",
      "[[1. 0.]\n",
      " [1. 1.]]\n",
      "\n",
      "Significance of tau:\n",
      "[[1. 1.]\n",
      " [1. 1.]]\n"
     ]
    }
   ],
   "source": [
    "temp_desed = df_desed.iloc[:,0].values\n",
    "co2_desed = df_desed.iloc[:,1].values\n",
    "dt = 1/12\n",
    "n_iter=500\n",
    "xx = np.array([temp_desed, co2_desed])\n",
    "\n",
    "print(\"Computing LKIFR...\")\n",
    "start = time.time()\n",
    "T, tau, R, error_T, error_tau, error_R = compute_liang_nvar(xx, dt, n_iter)\n",
    "print(f\"Process took {time.time() - start:.2f} sec\")\n",
    "\n",
    "# Computing the significance\n",
    "nvar = 2\n",
    "alpha_level = 0.034\n",
    "conf = norm.ppf(1 - alpha_level / 2)\n",
    "sig_T = np.zeros((nvar, nvar))\n",
    "sig_tau = np.zeros((nvar, nvar))\n",
    "sig_R = np.zeros((nvar, nvar))\n",
    "\n",
    "for j in range(nvar):\n",
    "    for k in range(nvar):\n",
    "        sig_T[j, k] = compute_sig(T[j, k], error_T[j, k], conf)\n",
    "        sig_tau[j, k] = compute_sig(tau[j, k], error_tau[j, k], conf)\n",
    "        sig_R[j, k] = compute_sig(R[j, k], error_R[j, k], conf)\n",
    "\n",
    "# Printing the results\n",
    "print(\"\\nLiang-Kleeman Info Transfer (T):\")\n",
    "print(T)\n",
    "print(\"\\nNormalized Info Transfer (% tau):\")\n",
    "print(tau)\n",
    "print(\"\\nPearson Correlation (R):\")\n",
    "print(R)\n",
    "print(f\"\\n\\nFor alpha_level = {alpha_level}:\")\n",
    "print(\"\\nSignificance of T (1=significant):\")\n",
    "print(sig_T)\n",
    "print(\"\\nSignificance of tau:\")\n",
    "print(sig_tau)"
   ]
  },
  {
   "cell_type": "code",
   "execution_count": null,
   "id": "53b86f38-1f69-40e2-a619-cdac4bdce538",
   "metadata": {},
   "outputs": [],
   "source": []
  },
  {
   "cell_type": "code",
   "execution_count": null,
   "id": "954b4533-5c45-4882-be57-d86fde55a5a1",
   "metadata": {},
   "outputs": [],
   "source": []
  },
  {
   "cell_type": "markdown",
   "id": "ebb01ce7-9fa3-4138-bfd3-31d448d68275",
   "metadata": {},
   "source": [
    "## PCMCI"
   ]
  },
  {
   "cell_type": "code",
   "execution_count": 49,
   "id": "eddd9e67-d093-4822-99b8-f4d96408558d",
   "metadata": {},
   "outputs": [],
   "source": [
    "from tigramite.data_processing import DataFrame\n",
    "from tigramite.independence_tests.parcorr import ParCorr\n",
    "from tigramite.pcmci import PCMCI"
   ]
  },
  {
   "cell_type": "markdown",
   "id": "a49a9bd4-2643-425a-a930-2ab6d4d1502d",
   "metadata": {},
   "source": [
    "#### CO2 NOAA-deseasoned, Temp plain"
   ]
  },
  {
   "cell_type": "code",
   "execution_count": 50,
   "id": "218191c2-fb02-48e9-b631-971717ad795f",
   "metadata": {},
   "outputs": [],
   "source": [
    "# NOT YET IMPLEMENTED"
   ]
  },
  {
   "cell_type": "markdown",
   "id": "fcd3581c-105e-4661-8f3d-303bf5a7eae8",
   "metadata": {},
   "source": [
    "#### CO2 and Temp equivalently deseasoned"
   ]
  },
  {
   "cell_type": "code",
   "execution_count": 51,
   "id": "0c3142c8-9191-45a8-8962-789873cc7e60",
   "metadata": {},
   "outputs": [],
   "source": [
    "df_desed = pd.read_pickle(\"../data/temp_co2_aligned_deeasoned.pkl\") # \"desed\" for deseasoned\n",
    "data_array = df_desed.to_numpy()"
   ]
  },
  {
   "cell_type": "code",
   "execution_count": 59,
   "id": "f5af8165-7d09-4030-8417-df811342f938",
   "metadata": {},
   "outputs": [
    {
     "name": "stdout",
     "output_type": "stream",
     "text": [
      "Note: Alpha level 0.034 means accepting a 3.4% chance of falsely detecting a link that is not true.\n",
      "\n",
      "## Significant links at alpha = 0.034:\n",
      "\n",
      "    Variable temp has 2 link(s):\n",
      "        (temp -1): pval = 0.00000 | val =  0.313\n",
      "        (temp -2): pval = 0.00000 | val =  0.189\n",
      "\n",
      "    Variable co2 has 3 link(s):\n",
      "        (co2 -1): pval = 0.00000 | val =  0.511\n",
      "        (temp -2): pval = 0.00192 | val =  0.125\n",
      "        (co2 -2): pval = 0.00623 | val =  0.111\n",
      "\n",
      "PCMCI Path Coefficients (val_matrix) at lag=1:\n",
      "  [[0.31328266 0.03492484]\n",
      " [0.08223849 0.51108859]]\n",
      "\n",
      "Inferred parents per variable (from graph):\n",
      "  temp(t) ← temp(t-1), temp(t-2)\n",
      "  co2(t) ← co2(t-1), temp(t-2), co2(t-2)\n"
     ]
    }
   ],
   "source": [
    "df_desed = DataFrame(data_array, var_names=[\"temp\", \"co2\"])\n",
    "\n",
    "# Setting up ParCorr test and PCMCI object\n",
    "parcorr = ParCorr(significance='analytic')\n",
    "pcmci = PCMCI(dataframe=df_desed, cond_ind_test=parcorr)\n",
    "alpha_level = 0.034\n",
    "tau_max = 4\n",
    "# Running PCMCI (includes graph output by thresholding p_matrix)\n",
    "results = pcmci.run_pcmci(tau_max=4, pc_alpha=alpha_level)\n",
    "\n",
    "# Working the FDR-corrected p-values\n",
    "q_matrix = pcmci.get_corrected_pvalues(p_matrix=results['p_matrix'], fdr_method='fdr_bh')\n",
    "\n",
    "\n",
    "# Printing results ##########\n",
    "print(f'Note: Alpha level {alpha_level} means accepting a {alpha_level*100:.1f}% chance of falsely detecting a link that is not true.')\n",
    "pcmci.print_significant_links(p_matrix = q_matrix, val_matrix = results['val_matrix'], alpha_level = alpha_level)\n",
    "graph = pcmci.get_graph_from_pmatrix(p_matrix=q_matrix, alpha_level=alpha_level, tau_min=0, tau_max=tau_max, link_assumptions=None)\n",
    "results['graph'] = graph\n",
    "\n",
    "# Retrieving inferred parents from above (corrected) graph\n",
    "parents_dict = pcmci.return_parents_dict(graph=results['graph'], val_matrix=results['val_matrix'])\n",
    "\n",
    "# Show beta (path coefficients) matrix at lag 1\n",
    "print(\"\\nPCMCI Path Coefficients (val_matrix) at lag=1:\")\n",
    "print(' ', results['val_matrix'][:, :, 1])\n",
    "\n",
    "print(\"\\nInferred parents per variable (from graph):\")\n",
    "for var, parents in parents_dict.items():\n",
    "    varname = df_desed.var_names[var]\n",
    "    formatted = ', '.join(f\"{df_desed.var_names[pv]}(t{lag})\" for pv, lag in parents)\n",
    "    print(f\"  {varname}(t) ← {formatted}\")\n",
    "\n"
   ]
  },
  {
   "cell_type": "code",
   "execution_count": null,
   "id": "7c2bc677-d5a4-4cee-8c00-119cd123f123",
   "metadata": {},
   "outputs": [],
   "source": []
  }
 ],
 "metadata": {
  "kernelspec": {
   "display_name": "Python 3 (ipykernel)",
   "language": "python",
   "name": "python3"
  },
  "language_info": {
   "codemirror_mode": {
    "name": "ipython",
    "version": 3
   },
   "file_extension": ".py",
   "mimetype": "text/x-python",
   "name": "python",
   "nbconvert_exporter": "python",
   "pygments_lexer": "ipython3",
   "version": "3.9.21"
  }
 },
 "nbformat": 4,
 "nbformat_minor": 5
}
